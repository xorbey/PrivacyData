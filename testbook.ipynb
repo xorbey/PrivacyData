{
 "cells": [
  {
   "cell_type": "code",
   "execution_count": 23,
   "metadata": {},
   "outputs": [],
   "source": [
    "import country_list\n",
    "import pandas as pd\n",
    "import numpy as np\n",
    "import re"
   ]
  },
  {
   "cell_type": "code",
   "execution_count": 5,
   "metadata": {},
   "outputs": [],
   "source": [
    "from country_list import countries_for_language\n",
    "countries = dict(countries_for_language('de'))\n"
   ]
  },
  {
   "cell_type": "code",
   "execution_count": 18,
   "metadata": {},
   "outputs": [],
   "source": [
    "countriesDE = countries.values()"
   ]
  },
  {
   "cell_type": "code",
   "execution_count": 16,
   "metadata": {},
   "outputs": [
    {
     "name": "stderr",
     "output_type": "stream",
     "text": [
      "C:\\Users\\ga67xer\\AppData\\Local\\Temp\\ipykernel_35668\\881689378.py:1: DeprecationWarning: `np.str` is a deprecated alias for the builtin `str`. To silence this warning, use `str` by itself. Doing this will not modify any behavior and is safe. If you specifically wanted the numpy scalar type, use `np.str_` here.\n",
      "Deprecated in NumPy 1.20; for more details and guidance: https://numpy.org/devdocs/release/1.20.0-notes.html#deprecations\n",
      "  csv = pd.read_csv(\"German-Zip-Codes.csv\", delimiter=\";\", dtype = {'Plz': np.str, 'Vorwahl': np.str})\n"
     ]
    }
   ],
   "source": [
    "csv = pd.read_csv(\"German-Zip-Codes.csv\", delimiter=\";\", dtype = {'Plz': np.str, 'Vorwahl': np.str})"
   ]
  },
  {
   "cell_type": "code",
   "execution_count": 17,
   "metadata": {},
   "outputs": [
    {
     "data": {
      "text/html": [
       "<div>\n",
       "<style scoped>\n",
       "    .dataframe tbody tr th:only-of-type {\n",
       "        vertical-align: middle;\n",
       "    }\n",
       "\n",
       "    .dataframe tbody tr th {\n",
       "        vertical-align: top;\n",
       "    }\n",
       "\n",
       "    .dataframe thead th {\n",
       "        text-align: right;\n",
       "    }\n",
       "</style>\n",
       "<table border=\"1\" class=\"dataframe\">\n",
       "  <thead>\n",
       "    <tr style=\"text-align: right;\">\n",
       "      <th></th>\n",
       "      <th>Ort</th>\n",
       "      <th>Zusatz</th>\n",
       "      <th>Plz</th>\n",
       "      <th>Vorwahl</th>\n",
       "      <th>Bundesland</th>\n",
       "    </tr>\n",
       "  </thead>\n",
       "  <tbody>\n",
       "    <tr>\n",
       "      <th>0</th>\n",
       "      <td>Aach</td>\n",
       "      <td>b Trier</td>\n",
       "      <td>54298</td>\n",
       "      <td>0651</td>\n",
       "      <td>Rheinland-Pfalz</td>\n",
       "    </tr>\n",
       "    <tr>\n",
       "      <th>1</th>\n",
       "      <td>Aach</td>\n",
       "      <td>, Hegau</td>\n",
       "      <td>78267</td>\n",
       "      <td>07774</td>\n",
       "      <td>Baden-Württemberg</td>\n",
       "    </tr>\n",
       "    <tr>\n",
       "      <th>2</th>\n",
       "      <td>Aachen</td>\n",
       "      <td>NaN</td>\n",
       "      <td>52062</td>\n",
       "      <td>0241</td>\n",
       "      <td>Nordrhein-Westfalen</td>\n",
       "    </tr>\n",
       "    <tr>\n",
       "      <th>3</th>\n",
       "      <td>Aachen</td>\n",
       "      <td>NaN</td>\n",
       "      <td>52064</td>\n",
       "      <td>0241</td>\n",
       "      <td>Nordrhein-Westfalen</td>\n",
       "    </tr>\n",
       "    <tr>\n",
       "      <th>4</th>\n",
       "      <td>Aachen</td>\n",
       "      <td>NaN</td>\n",
       "      <td>52066</td>\n",
       "      <td>0241</td>\n",
       "      <td>Nordrhein-Westfalen</td>\n",
       "    </tr>\n",
       "    <tr>\n",
       "      <th>...</th>\n",
       "      <td>...</td>\n",
       "      <td>...</td>\n",
       "      <td>...</td>\n",
       "      <td>...</td>\n",
       "      <td>...</td>\n",
       "    </tr>\n",
       "    <tr>\n",
       "      <th>19665</th>\n",
       "      <td>Zwingenberg</td>\n",
       "      <td>, Baden</td>\n",
       "      <td>69439</td>\n",
       "      <td>06263</td>\n",
       "      <td>Baden-Württemberg</td>\n",
       "    </tr>\n",
       "    <tr>\n",
       "      <th>19666</th>\n",
       "      <td>Zwischendeich</td>\n",
       "      <td>NaN</td>\n",
       "      <td>19322</td>\n",
       "      <td>03877</td>\n",
       "      <td>Brandenburg</td>\n",
       "    </tr>\n",
       "    <tr>\n",
       "      <th>19667</th>\n",
       "      <td>Zwochau</td>\n",
       "      <td>b Delitzsch</td>\n",
       "      <td>04509</td>\n",
       "      <td>034207</td>\n",
       "      <td>Sachsen</td>\n",
       "    </tr>\n",
       "    <tr>\n",
       "      <th>19668</th>\n",
       "      <td>Zwönitz</td>\n",
       "      <td>NaN</td>\n",
       "      <td>08297</td>\n",
       "      <td>037754</td>\n",
       "      <td>Sachsen</td>\n",
       "    </tr>\n",
       "    <tr>\n",
       "      <th>19669</th>\n",
       "      <td>Zwota</td>\n",
       "      <td>NaN</td>\n",
       "      <td>08267</td>\n",
       "      <td>037467</td>\n",
       "      <td>Sachsen</td>\n",
       "    </tr>\n",
       "  </tbody>\n",
       "</table>\n",
       "<p>19670 rows × 5 columns</p>\n",
       "</div>"
      ],
      "text/plain": [
       "                 Ort       Zusatz    Plz Vorwahl           Bundesland\n",
       "0               Aach      b Trier  54298    0651      Rheinland-Pfalz\n",
       "1               Aach      , Hegau  78267   07774    Baden-Württemberg\n",
       "2             Aachen          NaN  52062    0241  Nordrhein-Westfalen\n",
       "3             Aachen          NaN  52064    0241  Nordrhein-Westfalen\n",
       "4             Aachen          NaN  52066    0241  Nordrhein-Westfalen\n",
       "...              ...          ...    ...     ...                  ...\n",
       "19665    Zwingenberg      , Baden  69439   06263    Baden-Württemberg\n",
       "19666  Zwischendeich          NaN  19322   03877          Brandenburg\n",
       "19667        Zwochau  b Delitzsch  04509  034207              Sachsen\n",
       "19668        Zwönitz          NaN  08297  037754              Sachsen\n",
       "19669          Zwota          NaN  08267  037467              Sachsen\n",
       "\n",
       "[19670 rows x 5 columns]"
      ]
     },
     "execution_count": 17,
     "metadata": {},
     "output_type": "execute_result"
    }
   ],
   "source": [
    "csv"
   ]
  },
  {
   "cell_type": "code",
   "execution_count": 20,
   "metadata": {},
   "outputs": [
    {
     "data": {
      "text/plain": [
       "'(Afghanistan|Ägypten|Ålandinseln|Albanien|Algerien|Amerikanisch-Samoa|Amerikanische Jungferninseln|Amerikanische Überseeinseln|Andorra|Angola|Anguilla|Antarktis|Antigua und Barbuda|Äquatorialguinea|Argentinien|Armenien|Aruba|Aserbaidschan|Äthiopien|Australien|Bahamas|Bahrain|Bangladesch|Barbados|Belarus|Belgien|Belize|Benin|Bermuda|Bhutan|Bolivien|Bonaire, Sint Eustatius und Saba|Bosnien und Herzegowina|Botsuana|Bouvetinsel|Brasilien|Britische Jungferninseln|Britisches Territorium im Indischen Ozean|Brunei Darussalam|Bulgarien|Burkina Faso|Burundi|Cabo Verde|Chile|China|Cookinseln|Costa Rica|Côte d’Ivoire|Curaçao|Dänemark|Deutschland|Dominica|Dominikanische Republik|Dschibuti|Ecuador|El Salvador|Eritrea|Estland|Eswatini|Falklandinseln|Färöer|Fidschi|Finnland|Frankreich|Französisch-Guayana|Französisch-Polynesien|Französische Süd- und Antarktisgebiete|Gabun|Gambia|Georgien|Ghana|Gibraltar|Grenada|Griechenland|Grönland|Guadeloupe|Guam|Guatemala|Guernsey|Guinea|Guinea-Bissau|Guyana|Haiti|Heard und McDonaldinseln|Honduras|Indien|Indonesien|Irak|Iran|Irland|Island|Isle of Man|Israel|Italien|Jamaika|Japan|Jemen|Jersey|Jordanien|Kaimaninseln|Kambodscha|Kamerun|Kanada|Kasachstan|Katar|Kenia|Kirgisistan|Kiribati|Kokosinseln|Kolumbien|Komoren|Kongo-Brazzaville|Kongo-Kinshasa|Kroatien|Kuba|Kuwait|Laos|Lesotho|Lettland|Libanon|Liberia|Libyen|Liechtenstein|Litauen|Luxemburg|Madagaskar|Malawi|Malaysia|Malediven|Mali|Malta|Marokko|Marshallinseln|Martinique|Mauretanien|Mauritius|Mayotte|Mexiko|Mikronesien|Monaco|Mongolei|Montenegro|Montserrat|Mosambik|Myanmar|Namibia|Nauru|Nepal|Neukaledonien|Neuseeland|Nicaragua|Niederlande|Niger|Nigeria|Niue|Nordkorea|Nördliche Marianen|Nordmazedonien|Norfolkinsel|Norwegen|Oman|Österreich|Pakistan|Palästinensische Autonomiegebiete|Palau|Panama|Papua-Neuguinea|Paraguay|Peru|Philippinen|Pitcairninseln|Polen|Portugal|Puerto Rico|Republik Moldau|Réunion|Ruanda|Rumänien|Russland|Salomonen|Sambia|Samoa|San Marino|São Tomé und Príncipe|Saudi-Arabien|Schweden|Schweiz|Senegal|Serbien|Seychellen|Sierra Leone|Simbabwe|Singapur|Sint Maarten|Slowakei|Slowenien|Somalia|Sonderverwaltungsregion Hongkong|Sonderverwaltungsregion Macau|Spanien|Spitzbergen und Jan Mayen|Sri Lanka|St. Barthélemy|St. Helena|St. Kitts und Nevis|St. Lucia|St. Martin|St. Pierre und Miquelon|St. Vincent und die Grenadinen|Südafrika|Sudan|Südgeorgien und die Südlichen Sandwichinseln|Südkorea|Südsudan|Suriname|Syrien|Tadschikistan|Taiwan|Tansania|Thailand|Timor-Leste|Togo|Tokelau|Tonga|Trinidad und Tobago|Tschad|Tschechien|Tunesien|Türkei|Turkmenistan|Turks- und Caicosinseln|Tuvalu|Uganda|Ukraine|Ungarn|Uruguay|Usbekistan|Vanuatu|Vatikanstadt|Venezuela|Vereinigte Arabische Emirate|Vereinigte Staaten|Vereinigtes Königreich|Vietnam|Wallis und Futuna|Weihnachtsinsel|Westsahara|Zentralafrikanische Republik|Zypern)'"
      ]
     },
     "execution_count": 20,
     "metadata": {},
     "output_type": "execute_result"
    }
   ],
   "source": [
    "r\"({})\".format(\"|\".join(countriesDE))"
   ]
  },
  {
   "cell_type": "code",
   "execution_count": null,
   "metadata": {},
   "outputs": [],
   "source": [
    "re.match(r\"({})\".format(\"|\".join(countriesDe)), text=)"
   ]
  },
  {
   "cell_type": "code",
   "execution_count": 21,
   "metadata": {},
   "outputs": [],
   "source": [
    "text = '''\n",
    "This is a sample text that contains the name Alex Smith who is one of the developers of this project.\n",
    "You can also find the surname Jones here and this means Corbinian lives in Schrobenhausen or Aalen or Buxdehude. Meine Adresse ist: Am schönen See 13. Ein Werkzeug ist meine Pipeline. Das sind keine Namen.\n",
    "My log-data is bliblablubb. Das sind Nationalitäten: Deutschland, England, Großbritannien, Japan. These are nationalities: America, Brazil, Portugal. Meine Nationalität ist deutsch.\n",
    "25/09/1994 und 1994/02/03 oder 19.2.93 2022-01-02. Meine Lieblings-ZIP-Codes sind 97616, 81371 und 85049. c.nentwich@gmx.de , ga67xer@mytum.de 123@456.xr\n",
    "'''"
   ]
  },
  {
   "cell_type": "code",
   "execution_count": 25,
   "metadata": {},
   "outputs": [
    {
     "data": {
      "text/plain": [
       "['Deutschland', 'Japan', 'Portugal']"
      ]
     },
     "execution_count": 25,
     "metadata": {},
     "output_type": "execute_result"
    }
   ],
   "source": [
    "re.findall(r\"({})\".format(\"|\".join(countriesDE)), text)"
   ]
  },
  {
   "cell_type": "code",
   "execution_count": 2,
   "metadata": {},
   "outputs": [],
   "source": [
    "import pandas as pd\n",
    "first_names = pd.read_csv(\"firstnames.csv\")\n",
    "last_names = pd.read_csv(\"lastnames.csv\")\n",
    "names = list(first_names[\"vorname\"].values)\n",
    "names = names.extend(list(last_names[\"nachname\"].values))\n"
   ]
  },
  {
   "cell_type": "code",
   "execution_count": 14,
   "metadata": {},
   "outputs": [],
   "source": [
    "test = list(first_names[\"vorname\"].values)\n",
    "test.extend(list(last_names[\"nachname\"].values))\n"
   ]
  },
  {
   "cell_type": "code",
   "execution_count": 15,
   "metadata": {},
   "outputs": [
    {
     "data": {
      "text/plain": [
       "'Egger'"
      ]
     },
     "execution_count": 15,
     "metadata": {},
     "output_type": "execute_result"
    }
   ],
   "source": [
    "test[-1]"
   ]
  },
  {
   "cell_type": "code",
   "execution_count": 1,
   "metadata": {},
   "outputs": [
    {
     "name": "stderr",
     "output_type": "stream",
     "text": [
      "c:\\Users\\ga67xer\\Anaconda3\\envs\\PrivacyFilter\\lib\\site-packages\\tqdm\\auto.py:22: TqdmWarning: IProgress not found. Please update jupyter and ipywidgets. See https://ipywidgets.readthedocs.io/en/stable/user_install.html\n",
      "  from .autonotebook import tqdm as notebook_tqdm\n",
      "Downloading: 100%|██████████| 1.33G/1.33G [01:52<00:00, 11.8MB/s]\n",
      "c:\\Users\\ga67xer\\Anaconda3\\envs\\PrivacyFilter\\lib\\site-packages\\huggingface_hub\\file_download.py:127: UserWarning: `huggingface_hub` cache-system uses symlinks by default to efficiently store duplicated files but your machine does not support them in C:\\Users\\ga67xer\\.cache\\huggingface\\hub. Caching files will still work but in a degraded version that might require more space on your disk. This warning can be disabled by setting the `HF_HUB_DISABLE_SYMLINKS_WARNING` environment variable. For more details, see https://huggingface.co/docs/huggingface_hub/how-to-cache#limitations.\n",
      "To support symlinks on Windows, you either need to activate Developer Mode or to run Python as an administrator. In order to see activate developer mode, see this article: https://docs.microsoft.com/en-us/windows/apps/get-started/enable-your-device-for-development\n",
      "  warnings.warn(message)\n"
     ]
    },
    {
     "name": "stdout",
     "output_type": "stream",
     "text": [
      "[{'entity': 'B-PER', 'score': 0.9980274, 'index': 3, 'word': 'Jon', 'start': 9, 'end': 12}, {'entity': 'I-PER', 'score': 0.9969796, 'index': 4, 'word': 'Jones', 'start': 13, 'end': 18}, {'entity': 'B-PER', 'score': 0.9970373, 'index': 5, 'word': 'Jon', 'start': 19, 'end': 22}, {'entity': 'I-PER', 'score': 0.99666226, 'index': 6, 'word': 'Jones', 'start': 23, 'end': 28}, {'entity': 'I-PER', 'score': 0.8733999, 'index': 7, 'word': 'Jr', 'start': 29, 'end': 31}, {'entity': 'B-PER', 'score': 0.99354666, 'index': 9, 'word': 'Jon', 'start': 33, 'end': 36}, {'entity': 'I-PER', 'score': 0.97495246, 'index': 10, 'word': 'Paul', 'start': 37, 'end': 41}, {'entity': 'I-PER', 'score': 0.9960336, 'index': 11, 'word': 'Jones', 'start': 42, 'end': 47}, {'entity': 'B-PER', 'score': 0.9971614, 'index': 12, 'word': 'John', 'start': 48, 'end': 52}, {'entity': 'I-PER', 'score': 0.98586893, 'index': 13, 'word': 'D', 'start': 53, 'end': 54}, {'entity': 'I-PER', 'score': 0.46259606, 'index': 14, 'word': '.', 'start': 54, 'end': 55}, {'entity': 'I-PER', 'score': 0.9968941, 'index': 15, 'word': 'Jones', 'start': 56, 'end': 61}]\n"
     ]
    }
   ],
   "source": [
    "from transformers import AutoTokenizer, AutoModelForTokenClassification, pipeline\n",
    "\n",
    "bert_tokenizer = AutoTokenizer.from_pretrained('dslim/bert-large-NER')\n",
    "bert_model = AutoModelForTokenClassification.from_pretrained('dslim/bert-large-NER')\n",
    "\n",
    "nlp = pipeline('ner', model=bert_model, tokenizer=bert_tokenizer)\n",
    "names_string = \"Hi there Jon Jones Jon Jones Jr. Jon Paul Jones John D. Jones\"\n",
    "ner_list = nlp(names_string)\n",
    "print(ner_list)"
   ]
  },
  {
   "cell_type": "code",
   "execution_count": 2,
   "metadata": {},
   "outputs": [],
   "source": [
    "this_name = []\n",
    "all_names_list_tmp = []\n",
    "\n",
    "for ner_dict in ner_list:\n",
    "    if ner_dict['entity'] == 'B-PER':\n",
    "        if len(this_name) == 0:\n",
    "            this_name.append(ner_dict['word'])\n",
    "        else:\n",
    "            all_names_list_tmp.append([this_name])\n",
    "            this_name = []\n",
    "            this_name.append(ner_dict['word'])\n",
    "    elif ner_dict['entity'] == 'I-PER':\n",
    "        this_name.append(ner_dict['word'])\n",
    "\n",
    "all_names_list_tmp.append([this_name])\n",
    "\n",
    "final_name_list = []\n",
    "for name_list in all_names_list_tmp:\n",
    "    full_name = ' '.join(name_list[0]).replace(' ##', '').replace(' .', '.')\n",
    "    final_name_list.append([full_name])"
   ]
  },
  {
   "cell_type": "code",
   "execution_count": 3,
   "metadata": {},
   "outputs": [
    {
     "data": {
      "text/plain": [
       "[['Jon Jones'], ['Jon Jones Jr'], ['Jon Paul Jones'], ['John D. Jones']]"
      ]
     },
     "execution_count": 3,
     "metadata": {},
     "output_type": "execute_result"
    }
   ],
   "source": [
    "final_name_list "
   ]
  },
  {
   "cell_type": "code",
   "execution_count": 6,
   "metadata": {},
   "outputs": [
    {
     "name": "stdout",
     "output_type": "stream",
     "text": [
      "79\n"
     ]
    }
   ],
   "source": [
    "import random\n",
    "import pandas as pd\n",
    "first_names = pd.read_csv(\"firstnames.csv\")\n",
    "last_names = pd.read_csv(\"lastnames.csv\")\n",
    "names = list(first_names[\"vorname\"].values)\n",
    "names.extend(list(last_names[\"nachname\"].values))\n",
    "names = random.sample(names, 100, )\n",
    "teststring = \"Das ist \"\n",
    "result = []\n",
    "for name in names:\n",
    "        text = teststring + name\n",
    "        res = nlp(text)\n",
    "        res = [e[\"entity\"] for e in res]\n",
    "        res = [e for e in res if \"PER\" in e]\n",
    "        if len(res) > 0:\n",
    "                result.append(True)\n",
    "print(len(result))"
   ]
  },
  {
   "cell_type": "code",
   "execution_count": null,
   "metadata": {},
   "outputs": [],
   "source": []
  }
 ],
 "metadata": {
  "kernelspec": {
   "display_name": "Python 3.10.8 ('PrivacyFilter')",
   "language": "python",
   "name": "python3"
  },
  "language_info": {
   "codemirror_mode": {
    "name": "ipython",
    "version": 3
   },
   "file_extension": ".py",
   "mimetype": "text/x-python",
   "name": "python",
   "nbconvert_exporter": "python",
   "pygments_lexer": "ipython3",
   "version": "3.10.8"
  },
  "orig_nbformat": 4,
  "vscode": {
   "interpreter": {
    "hash": "ff61aff6f2b16c9952c2e34d5845834c2bd6074ef8cad84d43c8dcd66d9474ee"
   }
  }
 },
 "nbformat": 4,
 "nbformat_minor": 2
}
